{
 "cells": [
  {
   "cell_type": "code",
   "execution_count": 1,
   "metadata": {},
   "outputs": [
    {
     "name": "stdout",
     "output_type": "stream",
     "text": [
      "[ 87.5  82.5  77.5  72.5  67.5  62.5  57.5  52.5  47.5  42.5  37.5  32.5\n",
      "  27.5  22.5  17.5  12.5   7.5   2.5  -2.5  -7.5 -12.5 -17.5 -22.5 -27.5\n",
      " -32.5 -37.5 -42.5 -47.5 -52.5 -57.5 -62.5 -67.5 -72.5 -77.5 -82.5 -87.5]\n",
      "{87.5: 0.0, 82.5: 0.0, -37.5: 10.0, 72.5: 0.0, 57.5: 3.0, -72.5: 0.0, -22.5: 26.0, -52.5: 8.0, -87.5: 0.0, 37.5: 4.0, -12.5: 0.0, 12.5: 17.0, 27.5: 4.0, -32.5: 6.0, 7.5: 21.0, -47.5: 5.0, 42.5: 0.0, -17.5: 38.0, 22.5: 0.0, 67.5: 0.0, -62.5: 5.0, 2.5: 29.0, -67.5: 1.0, 47.5: 0.0, -42.5: 8.0, -2.5: 7.0, 62.5: 0.0, 32.5: 10.0, -27.5: 6.0, -82.5: 0.0, 17.5: 17.0, -57.5: 3.0, -77.5: 0.0, 52.5: 10.0, -7.5: 7.0, 77.5: 0.0}\n"
     ]
    },
    {
     "data": {
      "image/png": "[encoded data removed]",
      "text/plain": [
       "<matplotlib.figure.Figure at 0x7393a20>"
      ]
     },
     "metadata": {},
     "output_type": "display_data"
    }
   ],
   "source": [
    "import numpy as np\n",
    "import matplotlib.pyplot as plt\n",
    "\n",
    "goods_in_bins = [0., 0., 0., 0., 0., 0., 3., 10., 0., 0., 4., 10., 4., 0., 17., 17., 21., 29., 7., 7., 0., 38., 26., 6., 6., 10., 8., 5., 8., 3., 5., 1., 0., 0., 0., 0.]\n",
    "bads_in_bins = [0., 0., 0., 0., 0., 0., 1., 0., 0., 0., 1., 0., 0., 0., 3., 1., 1., 1., 2., 3., 0., 1., 1., 0., 0., 0., 1., 0., 0., 0., 0., 0., 0., 0., 0., 0.]\n",
    "\n",
    "keys = np.linspace(87.5, -87.5, 36)\n",
    "\n",
    "print keys\n",
    "\n",
    "good_dict = {keys[i]: goods_in_bins[i] for i in range(keys.size)}\n",
    "bad_dict = {keys[i]: bads_in_bins[i] for i in range(keys.size)}\n",
    "\n",
    "reverse_keys = np.linspace(-90, 90, 37)\n",
    "\n",
    "#for i in range(keys.size()):\n",
    "\n",
    "print good_dict\n",
    "\n",
    "plt.figure()\n",
    "plt.hist(good_dict.keys(), weights = good_dict.values(), bins = reverse_keys)\n",
    "#plt.hist(bad_dict.keys(), weights = bad_dict.values(), bins = reverse_keys)\n",
    "plt.show()\n",
    "\n",
    "params = {'text.usetex': False, 'mathtext.fontset': 'stixsans'}\n",
    "\n",
    "plt.figure()\n",
    "plt.rcParams['xtick.labelsize'] = 15\n",
    "plt.rcParams['ytick.labelsize'] = 15\n",
    "plt.rcParams.update(params)\n",
    "\n",
    "plt.gcf().subplots_adjust(left=0.12)\n",
    "plt.gcf().subplots_adjust(right=0.95)\n",
    "plt.gcf().subplots_adjust(top=0.95)\n",
    "plt.gcf().subplots_adjust(bottom=0.16)\n",
    "\n",
    "plt.hist([bad_dict.keys(), good_dict.keys()], weights = [good_dict.values(), bad_dict.values()], stacked=True, label = ['Retains sig. excess','Insig. excess'], bins = reverse_keys)\n",
    "plt.plot([-5.,-5.],[0.,45.],'k--')\n",
    "plt.plot([5., 5.], [0.,45.],'k--',label='Galactic plane')\n",
    "#plt.hist(bad_dict.keys(), weights = bad_dict.values(), bins = reverse_keys)\n",
    "plt.xlabel(r'$\\mathrm{Galactic\\; Latitude\\;(degrees)}$', fontsize=20)\n",
    "plt.ylabel(r'$\\mathrm{Targets}$', fontsize=20)\n",
    "plt.legend(loc='upper right',fontsize=12)\n",
    "plt.xlim([-90., 90.])\n",
    "plt.xticks([-90., -60., -30., 0., 30., 60., 90.])\n",
    "plt.ylim([0.,45.])\n",
    "#plt.show()\n",
    "plt.savefig('followup_histogram.pdf')\n",
    "plt.close()"
   ]
  },
  {
   "cell_type": "code",
   "execution_count": 4,
   "metadata": {},
   "outputs": [
    {
     "name": "stdout",
     "output_type": "stream",
     "text": [
      "36\n",
      "36\n",
      "36\n",
      "31840.0\n",
      "Done\n"
     ]
    }
   ],
   "source": [
    "class_good = [2.,8.,12.,15.,14.,39.,32.,46.,60.,86.,67.,122.,139.,369.,687.,2080.,1705.,2058.,2727.,2003.,867.,465.,268.,163.,201.,148.,67.,37.,58.,19.,18.,23.,12.,5.,9.,1.]\n",
    "class_mult = [1.,1.,0.,2.,0.,2.,0.,2.,16.,77.,126.,966.,77.,100.,399.,2294.,10527.,40220.,35374.,10640.,1504.,307.,88.,36.,13.,8.,13.,5.,1.,2.,0.,0.,0.,0.,0.,0.]\n",
    "class_other = [0.,7.,6.,13.,24.,19.,35.,35.,44.,67.,84.,266.,91.,188.,550.,1481.,2894.,10113.,10516.,3501.,907.,379.,160.,78.,127.,89.,34.,33.,28.,18.,21.,10.,9.,10.,3.,0.]\n",
    "\n",
    "print len(class_good)\n",
    "print len(class_mult)\n",
    "print len(class_other)\n",
    "\n",
    "print np.sum(np.array(class_other))\n",
    "\n",
    "class_good_dict = {keys[35-i]: class_good[i] for i in range(len(class_good))}\n",
    "class_mult_dict = {keys[35-i]: class_mult[i] for i in range(len(class_mult))}\n",
    "class_other_dict = {keys[35-i]: class_other[i] for i in range(len(class_other))}\n",
    "\n",
    "plt.figure()\n",
    "plt.rcParams['xtick.labelsize'] = 15\n",
    "plt.rcParams['ytick.labelsize'] = 15\n",
    "plt.rcParams.update(params)\n",
    "\n",
    "plt.gcf().subplots_adjust(left=0.19)\n",
    "plt.gcf().subplots_adjust(right=0.95)\n",
    "plt.gcf().subplots_adjust(top=0.95)\n",
    "plt.gcf().subplots_adjust(bottom=0.16)\n",
    "\n",
    "plt.hist([class_good_dict.keys(), class_mult_dict.keys(), class_other_dict.keys()], weights = [class_good_dict.values(), class_mult_dict.values(), class_other_dict.values()], stacked=True, label = ['Good','Multiple','Other'], bins = reverse_keys)\n",
    "plt.plot([-5.,-5.],[0.,55000.],'k--')\n",
    "plt.plot([5., 5.], [0.,55000.],'k--',label='Galactic plane')\n",
    "#plt.hist(bad_dict.keys(), weights = bad_dict.values(), bins = reverse_keys)\n",
    "plt.xlabel(r'$\\mathrm{Galactic\\; Latitude\\;(degrees)}$', fontsize=20)\n",
    "plt.ylabel(r'$\\mathrm{Targets}$', fontsize=20)\n",
    "plt.legend(loc='upper right',fontsize=12)\n",
    "plt.xlim([-90., 90.])\n",
    "plt.xticks([-90., -60., -30., 0., 30., 60., 90.])\n",
    "plt.ylim([0.,55000.])\n",
    "#plt.yscale('log',nonposy='clip')\n",
    "#plt.show()\n",
    "plt.savefig('classification_histogram.pdf')\n",
    "#plt.close()\n",
    "\n",
    "plt.figure()\n",
    "plt.rcParams['xtick.labelsize'] = 15\n",
    "plt.rcParams['ytick.labelsize'] = 15\n",
    "plt.rcParams.update(params)\n",
    "\n",
    "plt.gcf().subplots_adjust(left=0.17)\n",
    "plt.gcf().subplots_adjust(right=0.95)\n",
    "plt.gcf().subplots_adjust(top=0.95)\n",
    "plt.gcf().subplots_adjust(bottom=0.16)\n",
    "\n",
    "plt.hist(class_good_dict.keys(), weights=class_good_dict.values(), stacked=True, label = 'Good', bins = reverse_keys)\n",
    "plt.plot([-5.,-5.],[0.,55000.],'k--')\n",
    "plt.plot([5., 5.], [0.,55000.],'k--',label='Galactic plane')\n",
    "plt.xlabel(r'$\\mathrm{Galactic\\; Latitude\\;(degrees)}$', fontsize=20)\n",
    "plt.ylabel(r'$\\mathrm{Targets}$', fontsize=20)\n",
    "plt.legend(loc='upper right',fontsize=12)\n",
    "plt.xlim([-90., 90.])\n",
    "plt.xticks([-90., -60., -30., 0., 30., 60., 90.])\n",
    "plt.ylim([0.,2900.])\n",
    "#plt.yscale('log',nonposy='clip')\n",
    "#plt.show()\n",
    "plt.savefig('classification_histogram_good.pdf')\n",
    "print 'Done'\n"
   ]
  }
 ],
 "metadata": {
  "kernelspec": {
   "display_name": "Python 2",
   "language": "python",
   "name": "python2"
  },
  "language_info": {
   "codemirror_mode": {
    "name": "ipython",
    "version": 2
   },
   "file_extension": ".py",
   "mimetype": "text/x-python",
   "name": "python",
   "nbconvert_exporter": "python",
   "pygments_lexer": "ipython2",
   "version": "2.7.14"
  }
 },
 "nbformat": 4,
 "nbformat_minor": 2
}
