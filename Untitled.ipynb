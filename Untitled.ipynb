{
 "cells": [
  {
   "cell_type": "code",
   "execution_count": 6,
   "metadata": {},
   "outputs": [
    {
     "name": "stdout",
     "output_type": "stream",
     "text": [
      "False\n",
      "True\n",
      "False\n",
      "False\n",
      "True\n"
     ]
    }
   ],
   "source": [
    "import math\n",
    "\n",
    "x = float('NaN')\n",
    "\n",
    "y = not math.isnan(x)\n",
    "\n",
    "print y\n",
    "\n",
    "x1 = float(2.)\n",
    "\n",
    "y1 = not math.isnan(x1)\n",
    "\n",
    "print y1\n",
    "\n",
    "y2 = (not math.isnan(x)) and (not math.isnan(x1))\n",
    "\n",
    "print y2\n",
    "\n",
    "y3 = (not math.isnan(x)) and (not math.isnan(float('NaN')))\n",
    "\n",
    "print y3\n",
    "\n",
    "y4 = (not math.isnan(x1)) and (not math.isnan(3.))\n",
    "\n",
    "print y4"
   ]
  },
  {
   "cell_type": "code",
   "execution_count": 30,
   "metadata": {},
   "outputs": [
    {
     "name": "stdout",
     "output_type": "stream",
     "text": [
      "1517597236.61\n",
      "1011.7249999\n",
      "4.47712125472\n",
      "-6.91364016933\n",
      "24.840157986\n",
      "2831.7780104\n",
      "0.962604979595\n",
      "342.255415917\n",
      "32.4174964728\n",
      "33.2041014756\n",
      "0.78660500289\n",
      "332.537638903\n"
     ]
    }
   ],
   "source": [
    "import time\n",
    "\n",
    "print time.time()\n",
    "\n",
    "print time.time() - 1517596224.88\n",
    "\n",
    "#print 1517534329.79 - 1517533533.\n",
    "\n",
    "import numpy as np\n",
    "print np.log10(30000.)\n",
    "print np.log10(1.22e-7)\n",
    "\n",
    "print 664.263790131 - 639.423632145\n",
    "\n",
    "print (664.263790131 - 639.423632145) * 114.\n",
    "\n",
    "print (639.423632145/ 664.263790131)\n",
    "\n",
    "print (503.259603024 * 2.) - 664.263790131\n",
    "\n",
    "print ((639.423632145 * 114.) + (342.255415917 * 128.)) / 3600.\n",
    "print ((664.263790131 * 114.) + (342.255415917 * 128.)) / 3600.\n",
    "\n",
    "print (((664.263790131 * 114.) + (342.255415917 * 128.)) / 3600.) - (((639.423632145 * 114.) + (342.255415917 * 128.)) / 3600.)\n",
    "\n",
    "print (485.980635524 * 2.) - 639.423632145"
   ]
  },
  {
   "cell_type": "code",
   "execution_count": 5,
   "metadata": {},
   "outputs": [
    {
     "name": "stdout",
     "output_type": "stream",
     "text": [
      "3.75327219027 -0.827461275241\n",
      "-0.974378575973 4.40532156285 -0.604447339937\n",
      "Finished: 1.45300006866\n"
     ]
    },
    {
     "data": {
      "image/png": "[encoded data removed]",
      "text/plain": [
       "<matplotlib.figure.Figure at 0xa3c2ac8>"
      ]
     },
     "metadata": {},
     "output_type": "display_data"
    }
   ],
   "source": [
    "import numpy as np\n",
    "import emcee\n",
    "from scipy.optimize import minimize\n",
    "\n",
    "import matplotlib.pyplot as plt\n",
    "\n",
    "m_true = -0.9594\n",
    "b_true = 4.294\n",
    "f_true = 0.534\n",
    "\n",
    "N = 50\n",
    "x = np.sort(10*np.random.rand(N))\n",
    "yerr = 0.1+0.5*np.random.rand(N)\n",
    "\n",
    "y = m_true*x + b_true\n",
    "y += np.abs(f_true*y) * np.random.randn(N)\n",
    "y+= yerr*np.random.randn(N)\n",
    "\n",
    "xvec = np.linspace(0,10,101)\n",
    "yvec_true = m_true*xvec + b_true\n",
    "\n",
    "\n",
    "\n",
    "A = np.vstack((np.ones_like(x), x)).T\n",
    "C = np.diag(yerr*yerr)\n",
    "cov = np.linalg.inv(np.dot(A.T, np.linalg.solve(C,A)))\n",
    "b_ls, m_ls = np.dot(cov, np.dot(A.T, np.linalg.solve(C,y)))\n",
    "\n",
    "print b_ls, m_ls\n",
    "\n",
    "def lnlike(theta, x, y, yerr):\n",
    "    m, b, lnf = theta\n",
    "    model = m * x + b\n",
    "    inv_sigma2 = 1.0/(yerr**2 + model**2*np.exp(2.*lnf))\n",
    "    return -0.5*(np.sum((y-model)**2*inv_sigma2 - np.log(inv_sigma2)))\n",
    "\n",
    "nll = lambda *args: -lnlike(*args)\n",
    "\n",
    "result = minimize(nll, [m_true, b_true, np.log(f_true)], args=(x,y,yerr))\n",
    "m_ml, b_ml, lnf_ml = result[\"x\"]\n",
    "\n",
    "print m_ml, b_ml, lnf_ml\n",
    "\n",
    "mcmc_start_time = time.time()\n",
    "\n",
    "def lnprior(theta):\n",
    "    m, b, lnf = theta\n",
    "    if -5.0 < m < 0.5 and 0.0 < b < 10.0 and -10.0 < lnf < 1.0:\n",
    "        return 0.0\n",
    "    return -np.inf\n",
    "\n",
    "def lnprob(theta, x, y, yerr):\n",
    "    lp = lnprior(theta)\n",
    "    if not np.isfinite(lp):\n",
    "        return -np.inf\n",
    "    return lp + lnlike(theta, x, y, yerr)\n",
    "\n",
    "ndim, nwalkers = 3, 100\n",
    "\n",
    "pos = [result[\"x\"] + 1.e-4*np.random.randn(ndim) for i in range(nwalkers)]\n",
    "\n",
    "sampler = emcee.EnsembleSampler(nwalkers, ndim, lnprob, args=(x,y,yerr))\n",
    "\n",
    "sampler.run_mcmc(pos,500)\n",
    "\n",
    "print 'Finished:', time.time() - mcmc_start_time\n",
    "    \n",
    "\n",
    "plt.figure()\n",
    "plt.errorbar(x,y,yerr=yerr, fmt='b.')\n",
    "plt.plot(xvec,yvec_true)\n",
    "plt.plot(xvec,(b_ls+(m_ls*xvec)))\n",
    "plt.plot(xvec,(b_ml+(m_ml*xvec)))\n",
    "plt.show()\n"
   ]
  },
  {
   "cell_type": "code",
   "execution_count": 16,
   "metadata": {},
   "outputs": [
    {
     "name": "stdout",
     "output_type": "stream",
     "text": [
      "0.604933423291\n",
      "1968.38076745\n",
      "32.8063461241\n",
      "54.2313333352\n",
      "21.4249872111\n",
      "32.9636486173\n",
      "54.2313333352\n",
      "21.2676847178\n",
      "0.60783400647\n"
     ]
    }
   ],
   "source": [
    "a = 8.25429427373\n",
    "b = 13.6449631578\n",
    "\n",
    "\n",
    "print a/b\n",
    "\n",
    "print (a/b) * 3253.88000011\n",
    "\n",
    "print ((a/b) * 3253.88000011) / 60.\n",
    "\n",
    "print 3253.88000011/60.\n",
    "\n",
    "print (3253.88000011/60.) - (((a/b) * 3253.88000011) / 60.)\n",
    "\n",
    "print 1977.81891704/60.\n",
    "print 3253.88000011/60.\n",
    "\n",
    "print (3253.88000011/60.) - (1977.81891704/60.)\n",
    "\n",
    "print 1977.81891704/3253.88000011"
   ]
  },
  {
   "cell_type": "code",
   "execution_count": 9,
   "metadata": {},
   "outputs": [
    {
     "data": {
      "image/png": "[encoded data removed]",
      "text/plain": [
       "<matplotlib.figure.Figure at 0xacffe10>"
      ]
     },
     "metadata": {},
     "output_type": "display_data"
    }
   ],
   "source": [
    "xvec = np.linspace(-10., 10., 201)\n",
    "\n",
    "plt.plot(xvec, xvec*(2.**np.abs(xvec)))\n",
    "#plt.yscale('log', nonposy='clip')\n",
    "plt.show()"
   ]
  }
 ],
 "metadata": {
  "kernelspec": {
   "display_name": "Python 2",
   "language": "python",
   "name": "python2"
  },
  "language_info": {
   "codemirror_mode": {
    "name": "ipython",
    "version": 2
   },
   "file_extension": ".py",
   "mimetype": "text/x-python",
   "name": "python",
   "nbconvert_exporter": "python",
   "pygments_lexer": "ipython2",
   "version": "2.7.14"
  }
 },
 "nbformat": 4,
 "nbformat_minor": 2
}
