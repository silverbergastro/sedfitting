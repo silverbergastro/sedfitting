{
 "cells": [
  {
   "cell_type": "code",
   "execution_count": 6,
   "metadata": {},
   "outputs": [
    {
     "name": "stdout",
     "output_type": "stream",
     "text": [
      "False\n",
      "True\n",
      "False\n",
      "False\n",
      "True\n"
     ]
    }
   ],
   "source": [
    "import math\n",
    "\n",
    "x = float('NaN')\n",
    "\n",
    "y = not math.isnan(x)\n",
    "\n",
    "print y\n",
    "\n",
    "x1 = float(2.)\n",
    "\n",
    "y1 = not math.isnan(x1)\n",
    "\n",
    "print y1\n",
    "\n",
    "y2 = (not math.isnan(x)) and (not math.isnan(x1))\n",
    "\n",
    "print y2\n",
    "\n",
    "y3 = (not math.isnan(x)) and (not math.isnan(float('NaN')))\n",
    "\n",
    "print y3\n",
    "\n",
    "y4 = (not math.isnan(x1)) and (not math.isnan(3.))\n",
    "\n",
    "print y4"
   ]
  },
  {
   "cell_type": "code",
   "execution_count": 21,
   "metadata": {},
   "outputs": [
    {
     "name": "stdout",
     "output_type": "stream",
     "text": [
      "1517464508.13\n",
      "748.871000051\n"
     ]
    }
   ],
   "source": [
    "import time\n",
    "\n",
    "print time.time()\n",
    "\n",
    "print time.time() - 1517463759.26"
   ]
  },
  {
   "cell_type": "code",
   "execution_count": null,
   "metadata": {
    "collapsed": true
   },
   "outputs": [],
   "source": []
  }
 ],
 "metadata": {
  "kernelspec": {
   "display_name": "Python 2",
   "language": "python",
   "name": "python2"
  }
 },
 "nbformat": 4,
 "nbformat_minor": 2
}
