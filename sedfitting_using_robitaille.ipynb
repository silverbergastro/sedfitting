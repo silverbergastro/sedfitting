{
 "cells": [
  {
   "cell_type": "code",
   "execution_count": 2,
   "metadata": {},
   "outputs": [
    {
     "name": "stdout",
     "output_type": "stream",
     "text": [
      "(397L, 2L)\n",
      "[  2.55000000e+00   2.07800000e-07]\n",
      "[  3.   3.   3.   3.   3.   6.   6.   6.  12.] arcsec\n",
      "INFO: 200710 SEDs found in models_r06_17jun08\\models_r06 [sedfitter.convolve.convolve]\n",
      "INFO: Rebinning filters [sedfitter.convolve.convolve]\n",
      "Filters read in.\n"
     ]
    }
   ],
   "source": [
    "from sedfitter import fit\n",
    "from astropy import units as u\n",
    "from sedfitter.extinction import extinction\n",
    "from sedfitter.filter import Filter\n",
    "from pandas import read_csv\n",
    "from scipy.constants import c\n",
    "from sedfitter.convolve import convolve_model_dir\n",
    "import numpy as np\n",
    "\n",
    "model_dir = 'models_r06_17jun08\\models_r06'\n",
    "\n",
    "wise1df = read_csv('W1_response.csv')\n",
    "wise1data = wise1df.values\n",
    "\n",
    "wise2df = read_csv('W2_response.csv')\n",
    "wise2data = wise2df.values\n",
    "\n",
    "wise3df = read_csv('W3_response.csv')\n",
    "wise3data = wise3df.values\n",
    "\n",
    "wise4df = read_csv('W4_response.csv')\n",
    "wise4data = wise4df.values\n",
    "\n",
    "print wise1data.shape\n",
    "print wise1data[1,:]\n",
    "\n",
    "fW1 = Filter()\n",
    "fW1.name = 'WISE1'\n",
    "fW1.central_wavelength = 3.4 * u.micron\n",
    "fW1.nu = (c / (((wise1data[:,0])) * 1.e-6)) * u.Hz\n",
    "fW1.response = wise1data[:,1]\n",
    "\n",
    "fW2 = Filter()\n",
    "fW2.name = 'WISE2'\n",
    "fW2.central_wavelength = 4.6 * u.micron\n",
    "fW2.nu = (c / (wise2data[:,0] * 1.e-6)) * u.Hz\n",
    "fW2.response = wise2data[:,1]\n",
    "\n",
    "fW3 = Filter()\n",
    "fW3.name = 'WISE3'\n",
    "fW3.central_wavelength = 12. * u.micron\n",
    "fW3.nu = (c / (wise3data[:,0] * 1.e-6)) * u.Hz\n",
    "fW3.response = wise3data[:,1]\n",
    "\n",
    "fW4 = Filter()\n",
    "fW4.name = 'WISE4'\n",
    "fW4.central_wavelength = 22. * u.micron\n",
    "fW4.nu = (c / ((wise4data[:,0]) * 1.e-6)) * u.Hz\n",
    "fW4.response = wise4data[:,1]\n",
    "\n",
    "fW1.normalize()\n",
    "fW2.normalize()\n",
    "fW3.normalize()\n",
    "fW4.normalize()\n",
    "\n",
    "filters = ['BB', 'BV', '2J', '2H', '2K', 'WISE1', 'WISE2', 'WISE3', 'WISE4']\n",
    "apertures = [3., 3., 3., 3., 3., 6., 6., 6., 12.] * u.arcsec\n",
    "\n",
    "print apertures\n",
    "\n",
    "convolve_model_dir(model_dir,[fW1, fW2, fW3, fW4])\n",
    "\n",
    "print 'Filters read in.'\n"
   ]
  },
  {
   "cell_type": "code",
   "execution_count": 4,
   "metadata": {
    "scrolled": true
   },
   "outputs": [
    {
     "name": "stdout",
     "output_type": "stream",
     "text": [
      " ------------------------------------------------------------\n",
      "  => Model parameters\n",
      " ------------------------------------------------------------\n",
      "\n",
      "   Models              :  YSO models\n",
      "   Log[d] stepping     :  0.01\n",
      "   Number of distances :  153\n",
      "\n",
      " ------------------------------------------------------------\n",
      "  => Reading in convolved fluxes\n",
      " ------------------------------------------------------------\n",
      "\n",
      "   Reading models_r06_17jun08\\models_r06/convolved/BB.fits\n",
      "   Reading models_r06_17jun08\\models_r06/convolved/BV.fits\n",
      "   Reading models_r06_17jun08\\models_r06/convolved/2J.fits\n",
      "   Reading models_r06_17jun08\\models_r06/convolved/2H.fits\n",
      "   Reading models_r06_17jun08\\models_r06/convolved/2K.fits\n",
      "   Reading models_r06_17jun08\\models_r06/convolved/WISE1.fits\n",
      "   Reading models_r06_17jun08\\models_r06/convolved/WISE2.fits\n",
      "   Reading models_r06_17jun08\\models_r06/convolved/WISE3.fits\n",
      "   Reading models_r06_17jun08\\models_r06/convolved/WISE4.fits\n"
     ]
    },
    {
     "ename": "AttributeError",
     "evalue": "'NoneType' object has no attribute 'get_av'",
     "output_type": "error",
     "traceback": [
      "\u001b[1;31m---------------------------------------------------------------------------\u001b[0m",
      "\u001b[1;31mAttributeError\u001b[0m                            Traceback (most recent call last)",
      "\u001b[1;32m<ipython-input-4-7b6dae0cb5f2>\u001b[0m in \u001b[0;36m<module>\u001b[1;34m()\u001b[0m\n\u001b[1;32m----> 1\u001b[1;33m \u001b[0mfit\u001b[0m\u001b[1;33m(\u001b[0m\u001b[1;34m'robitaille_sed_inputs.txt'\u001b[0m\u001b[1;33m,\u001b[0m \u001b[0mfilters\u001b[0m\u001b[1;33m,\u001b[0m \u001b[0mapertures\u001b[0m\u001b[1;33m,\u001b[0m \u001b[0mmodel_dir\u001b[0m\u001b[1;33m,\u001b[0m \u001b[1;34m'output.fitinfo'\u001b[0m\u001b[1;33m,\u001b[0m \u001b[0mdistance_range\u001b[0m\u001b[1;33m=\u001b[0m\u001b[1;33m[\u001b[0m\u001b[1;36m0.060\u001b[0m\u001b[1;33m,\u001b[0m \u001b[1;36m2.\u001b[0m\u001b[1;33m]\u001b[0m \u001b[1;33m*\u001b[0m \u001b[0mu\u001b[0m\u001b[1;33m.\u001b[0m\u001b[0mkpc\u001b[0m\u001b[1;33m)\u001b[0m \u001b[1;31m#av_range = [0., 40.])\u001b[0m\u001b[1;33m\u001b[0m\u001b[0m\n\u001b[0m",
      "\u001b[1;32mC:\\Users\\Steven Silverberg\\Anaconda2\\lib\\site-packages\\sedfitter\\fit.pyc\u001b[0m in \u001b[0;36mfit\u001b[1;34m(data, filter_names, apertures, model_dir, output, n_data_min, extinction_law, av_range, distance_range, output_format, output_convolved, remove_resolved)\u001b[0m\n\u001b[0;32m    177\u001b[0m                     \u001b[0mextinction_law\u001b[0m\u001b[1;33m=\u001b[0m\u001b[0mextinction_law\u001b[0m\u001b[1;33m,\u001b[0m \u001b[0mav_range\u001b[0m\u001b[1;33m=\u001b[0m\u001b[0mav_range\u001b[0m\u001b[1;33m,\u001b[0m\u001b[1;33m\u001b[0m\u001b[0m\n\u001b[0;32m    178\u001b[0m                     \u001b[0mdistance_range\u001b[0m\u001b[1;33m=\u001b[0m\u001b[0mdistance_range\u001b[0m\u001b[1;33m,\u001b[0m\u001b[1;33m\u001b[0m\u001b[0m\n\u001b[1;32m--> 179\u001b[1;33m                     remove_resolved=remove_resolved)\n\u001b[0m\u001b[0;32m    180\u001b[0m \u001b[1;33m\u001b[0m\u001b[0m\n\u001b[0;32m    181\u001b[0m     \u001b[1;32mprint\u001b[0m\u001b[1;33m(\u001b[0m\u001b[1;34m\" ------------------------------------------------------------\"\u001b[0m\u001b[1;33m)\u001b[0m\u001b[1;33m\u001b[0m\u001b[0m\n",
      "\u001b[1;32mC:\\Users\\Steven Silverberg\\Anaconda2\\lib\\site-packages\\sedfitter\\fit.pyc\u001b[0m in \u001b[0;36m__init__\u001b[1;34m(self, filter_names, apertures, model_dir, extinction_law, av_range, distance_range, remove_resolved)\u001b[0m\n\u001b[0;32m     91\u001b[0m \u001b[1;33m\u001b[0m\u001b[0m\n\u001b[0;32m     92\u001b[0m         \u001b[1;31m# Set Av law\u001b[0m\u001b[1;33m\u001b[0m\u001b[1;33m\u001b[0m\u001b[0m\n\u001b[1;32m---> 93\u001b[1;33m         \u001b[0mself\u001b[0m\u001b[1;33m.\u001b[0m\u001b[0mav_law\u001b[0m \u001b[1;33m=\u001b[0m \u001b[0mextinction_law\u001b[0m\u001b[1;33m.\u001b[0m\u001b[0mget_av\u001b[0m\u001b[1;33m(\u001b[0m\u001b[0mself\u001b[0m\u001b[1;33m.\u001b[0m\u001b[0mmodels\u001b[0m\u001b[1;33m.\u001b[0m\u001b[0mwavelengths\u001b[0m\u001b[1;33m)\u001b[0m\u001b[1;33m\u001b[0m\u001b[0m\n\u001b[0m\u001b[0;32m     94\u001b[0m \u001b[1;33m\u001b[0m\u001b[0m\n\u001b[0;32m     95\u001b[0m         \u001b[1;31m# Set scale model - make this a scalar\u001b[0m\u001b[1;33m\u001b[0m\u001b[1;33m\u001b[0m\u001b[0m\n",
      "\u001b[1;31mAttributeError\u001b[0m: 'NoneType' object has no attribute 'get_av'"
     ]
    }
   ],
   "source": [
    "fit('robitaille_sed_inputs.txt', filters, apertures, model_dir, 'output.fitinfo', distance_range=[0.060, 2.] * u.kpc) #av_range = [0., 40.])"
   ]
  }
 ],
 "metadata": {
  "kernelspec": {
   "display_name": "Python 2",
   "language": "python",
   "name": "python2"
  },
  "language_info": {
   "codemirror_mode": {
    "name": "ipython",
    "version": 2
   },
   "file_extension": ".py",
   "mimetype": "text/x-python",
   "name": "python",
   "nbconvert_exporter": "python",
   "pygments_lexer": "ipython2",
   "version": "2.7.14"
  }
 },
 "nbformat": 4,
 "nbformat_minor": 2
}
