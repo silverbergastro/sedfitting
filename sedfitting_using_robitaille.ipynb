{
 "cells": [
  {
   "cell_type": "code",
   "execution_count": 15,
   "metadata": {},
   "outputs": [
    {
     "name": "stdout",
     "output_type": "stream",
     "text": [
      "[ 12.  12.  12.  12.  12.  12.  12.  12.  12.] arcsec\n",
      "Filters read in.\n"
     ]
    }
   ],
   "source": [
    "from sedfitter import fit\n",
    "from astropy import units as u\n",
    "from sedfitter.extinction import extinction\n",
    "from sedfitter.filter import Filter\n",
    "from pandas import read_csv\n",
    "from scipy.constants import c\n",
    "\n",
    "model_dir = 'models_r06_17jun08\\models_r06'\n",
    "\n",
    "wise1df = read_csv('W1_response.csv')\n",
    "wise1data = wise1df.values\n",
    "\n",
    "wise2df = read_csv('W2_response.csv')\n",
    "wise2data = wise2df.values\n",
    "\n",
    "wise3df = read_csv('W3_response.csv')\n",
    "wise3data = wise3df.values\n",
    "\n",
    "wise4df = read_csv('W4_response.csv')\n",
    "wise4data = wise4df.values\n",
    "\n",
    "fW1 = Filter()\n",
    "fW1.name = 'WISE1'\n",
    "fW1.central_wavelength = 3.4 * u.micron\n",
    "fW1.nu = (c / (wise1data[:,0] * 1.e-6)) * u.Hz\n",
    "fW1.response = wise1data[:,1]\n",
    "\n",
    "fW2 = Filter()\n",
    "fW2.name = 'WISE2'\n",
    "fW2.central_wavelength = 4.6 * u.micron\n",
    "fW2.nu = (c / (wise2data[:,0] * 1.e-6)) * u.Hz\n",
    "fW2.response = wise2data[:,1]\n",
    "\n",
    "fW3 = Filter()\n",
    "fW3.name = 'WISE3'\n",
    "fW3.central_wavelength = 12. * u.micron\n",
    "fW3.nu = (c / (wise3data[:,0] * 1.e-6)) * u.Hz\n",
    "fW3.response = wise3data[:,1]\n",
    "\n",
    "fW4 = Filter()\n",
    "fW4.name = 'WISE4'\n",
    "fW4.central_wavelength = 22. * u.micron\n",
    "fW4.nu = (c / (wise4data[:,0] * 1.e-6)) * u.Hz\n",
    "fW4.response = wise4data[:,1]\n",
    "\n",
    "filters = ['BB', 'BV', '2J', '2H', '2K', 'WISE1', 'WISE2', 'WISE3', 'WISE4']\n",
    "apertures = [12., 12., 12., 12., 12., 12., 12., 12., 12.] * u.arcsec\n",
    "\n",
    "print apertures\n",
    "\n",
    "print 'Filters read in.'\n"
   ]
  },
  {
   "cell_type": "code",
   "execution_count": 16,
   "metadata": {},
   "outputs": [
    {
     "name": "stdout",
     "output_type": "stream",
     "text": [
      " ------------------------------------------------------------\n",
      "  => Model parameters\n",
      " ------------------------------------------------------------\n",
      "\n",
      "   Models              :  YSO models\n",
      "   Log[d] stepping     :  0.01\n",
      "   Number of distances :  331\n",
      "\n",
      " ------------------------------------------------------------\n",
      "  => Reading in convolved fluxes\n",
      " ------------------------------------------------------------\n",
      "\n",
      "   Reading models_r06_17jun08\\models_r06/convolved/BB.fits\n"
     ]
    },
    {
     "ename": "Exception",
     "evalue": "Aperture(s) requested too small",
     "output_type": "error",
     "traceback": [
      "\u001b[1;31m---------------------------------------------------------------------------\u001b[0m",
      "\u001b[1;31mException\u001b[0m                                 Traceback (most recent call last)",
      "\u001b[1;32m<ipython-input-16-4fd913cdf64e>\u001b[0m in \u001b[0;36m<module>\u001b[1;34m()\u001b[0m\n\u001b[1;32m----> 1\u001b[1;33m \u001b[0mfit\u001b[0m\u001b[1;33m(\u001b[0m\u001b[1;34m'robitaille_sed_inputs.txt'\u001b[0m\u001b[1;33m,\u001b[0m \u001b[0mfilters\u001b[0m\u001b[1;33m,\u001b[0m \u001b[0mapertures\u001b[0m\u001b[1;33m,\u001b[0m \u001b[0mmodel_dir\u001b[0m\u001b[1;33m,\u001b[0m \u001b[1;34m'output.fitinfo'\u001b[0m\u001b[1;33m,\u001b[0m \u001b[0mdistance_range\u001b[0m\u001b[1;33m=\u001b[0m\u001b[1;33m[\u001b[0m\u001b[1;36m0.001\u001b[0m\u001b[1;33m,\u001b[0m \u001b[1;36m2.\u001b[0m\u001b[1;33m]\u001b[0m \u001b[1;33m*\u001b[0m \u001b[0mu\u001b[0m\u001b[1;33m.\u001b[0m\u001b[0mkpc\u001b[0m\u001b[1;33m,\u001b[0m \u001b[0mav_range\u001b[0m \u001b[1;33m=\u001b[0m \u001b[1;33m[\u001b[0m\u001b[1;36m0.\u001b[0m\u001b[1;33m,\u001b[0m \u001b[1;36m40.\u001b[0m\u001b[1;33m]\u001b[0m\u001b[1;33m)\u001b[0m\u001b[1;33m\u001b[0m\u001b[0m\n\u001b[0m",
      "\u001b[1;32mC:\\Users\\Steven Silverberg\\Anaconda2\\lib\\site-packages\\sedfitter\\fit.pyc\u001b[0m in \u001b[0;36mfit\u001b[1;34m(data, filter_names, apertures, model_dir, output, n_data_min, extinction_law, av_range, distance_range, output_format, output_convolved, remove_resolved)\u001b[0m\n\u001b[0;32m    177\u001b[0m                     \u001b[0mextinction_law\u001b[0m\u001b[1;33m=\u001b[0m\u001b[0mextinction_law\u001b[0m\u001b[1;33m,\u001b[0m \u001b[0mav_range\u001b[0m\u001b[1;33m=\u001b[0m\u001b[0mav_range\u001b[0m\u001b[1;33m,\u001b[0m\u001b[1;33m\u001b[0m\u001b[0m\n\u001b[0;32m    178\u001b[0m                     \u001b[0mdistance_range\u001b[0m\u001b[1;33m=\u001b[0m\u001b[0mdistance_range\u001b[0m\u001b[1;33m,\u001b[0m\u001b[1;33m\u001b[0m\u001b[0m\n\u001b[1;32m--> 179\u001b[1;33m                     remove_resolved=remove_resolved)\n\u001b[0m\u001b[0;32m    180\u001b[0m \u001b[1;33m\u001b[0m\u001b[0m\n\u001b[0;32m    181\u001b[0m     \u001b[1;32mprint\u001b[0m\u001b[1;33m(\u001b[0m\u001b[1;34m\" ------------------------------------------------------------\"\u001b[0m\u001b[1;33m)\u001b[0m\u001b[1;33m\u001b[0m\u001b[0m\n",
      "\u001b[1;32mC:\\Users\\Steven Silverberg\\Anaconda2\\lib\\site-packages\\sedfitter\\fit.pyc\u001b[0m in \u001b[0;36m__init__\u001b[1;34m(self, filter_names, apertures, model_dir, extinction_law, av_range, distance_range, remove_resolved)\u001b[0m\n\u001b[0;32m     83\u001b[0m \u001b[1;33m\u001b[0m\u001b[0m\n\u001b[0;32m     84\u001b[0m         \u001b[1;31m# Read in models\u001b[0m\u001b[1;33m\u001b[0m\u001b[1;33m\u001b[0m\u001b[0m\n\u001b[1;32m---> 85\u001b[1;33m         \u001b[0mself\u001b[0m\u001b[1;33m.\u001b[0m\u001b[0mmodels\u001b[0m \u001b[1;33m=\u001b[0m \u001b[0mModels\u001b[0m\u001b[1;33m.\u001b[0m\u001b[0mread\u001b[0m\u001b[1;33m(\u001b[0m\u001b[0mmodel_dir\u001b[0m\u001b[1;33m,\u001b[0m \u001b[0mself\u001b[0m\u001b[1;33m.\u001b[0m\u001b[0mfilters\u001b[0m\u001b[1;33m,\u001b[0m \u001b[0mdistance_range\u001b[0m\u001b[1;33m=\u001b[0m\u001b[0mdistance_range\u001b[0m\u001b[1;33m,\u001b[0m \u001b[0mremove_resolved\u001b[0m\u001b[1;33m=\u001b[0m\u001b[0mremove_resolved\u001b[0m\u001b[1;33m)\u001b[0m\u001b[1;33m\u001b[0m\u001b[0m\n\u001b[0m\u001b[0;32m     86\u001b[0m \u001b[1;33m\u001b[0m\u001b[0m\n\u001b[0;32m     87\u001b[0m         \u001b[1;31m# Add wavelength to filters\u001b[0m\u001b[1;33m\u001b[0m\u001b[1;33m\u001b[0m\u001b[0m\n",
      "\u001b[1;32mC:\\Users\\Steven Silverberg\\Anaconda2\\lib\\site-packages\\sedfitter\\models.pyc\u001b[0m in \u001b[0;36mread\u001b[1;34m(cls, directory, filters, distance_range, remove_resolved)\u001b[0m\n\u001b[0;32m    140\u001b[0m             return cls._read_version_1(directory, filters,\n\u001b[0;32m    141\u001b[0m                                        \u001b[0mdistance_range\u001b[0m\u001b[1;33m=\u001b[0m\u001b[0mdistance_range\u001b[0m\u001b[1;33m,\u001b[0m\u001b[1;33m\u001b[0m\u001b[0m\n\u001b[1;32m--> 142\u001b[1;33m                                        remove_resolved=remove_resolved)\n\u001b[0m\u001b[0;32m    143\u001b[0m         \u001b[1;32melse\u001b[0m\u001b[1;33m:\u001b[0m\u001b[1;33m\u001b[0m\u001b[0m\n\u001b[0;32m    144\u001b[0m             return cls._read_version_2(directory, filters,\n",
      "\u001b[1;32mC:\\Users\\Steven Silverberg\\Anaconda2\\lib\\site-packages\\sedfitter\\models.pyc\u001b[0m in \u001b[0;36m_read_version_1\u001b[1;34m(cls, directory, filters, distance_range, remove_resolved)\u001b[0m\n\u001b[0;32m    210\u001b[0m             \u001b[1;32mif\u001b[0m \u001b[0mm\u001b[0m\u001b[1;33m.\u001b[0m\u001b[0mn_distances\u001b[0m \u001b[1;32mis\u001b[0m \u001b[1;32mnot\u001b[0m \u001b[0mNone\u001b[0m\u001b[1;33m:\u001b[0m\u001b[1;33m\u001b[0m\u001b[0m\n\u001b[0;32m    211\u001b[0m                 \u001b[0mapertures_au\u001b[0m \u001b[1;33m=\u001b[0m \u001b[0mfilt\u001b[0m\u001b[1;33m[\u001b[0m\u001b[1;34m'aperture_arcsec'\u001b[0m\u001b[1;33m]\u001b[0m \u001b[1;33m*\u001b[0m \u001b[0mm\u001b[0m\u001b[1;33m.\u001b[0m\u001b[0mdistances\u001b[0m\u001b[1;33m.\u001b[0m\u001b[0mto\u001b[0m\u001b[1;33m(\u001b[0m\u001b[0mu\u001b[0m\u001b[1;33m.\u001b[0m\u001b[0mpc\u001b[0m\u001b[1;33m)\u001b[0m\u001b[1;33m.\u001b[0m\u001b[0mvalue\u001b[0m \u001b[1;33m*\u001b[0m \u001b[0mu\u001b[0m\u001b[1;33m.\u001b[0m\u001b[0mau\u001b[0m\u001b[1;33m\u001b[0m\u001b[0m\n\u001b[1;32m--> 212\u001b[1;33m                 \u001b[0mconv\u001b[0m \u001b[1;33m=\u001b[0m \u001b[0mconv\u001b[0m\u001b[1;33m.\u001b[0m\u001b[0minterpolate\u001b[0m\u001b[1;33m(\u001b[0m\u001b[0mapertures_au\u001b[0m\u001b[1;33m)\u001b[0m\u001b[1;33m\u001b[0m\u001b[0m\n\u001b[0m\u001b[0;32m    213\u001b[0m                 \u001b[0mconv\u001b[0m\u001b[1;33m.\u001b[0m\u001b[0mflux\u001b[0m \u001b[1;33m=\u001b[0m \u001b[0mconv\u001b[0m\u001b[1;33m.\u001b[0m\u001b[0mflux\u001b[0m \u001b[1;33m*\u001b[0m \u001b[1;33m(\u001b[0m\u001b[0mu\u001b[0m\u001b[1;33m.\u001b[0m\u001b[0mkpc\u001b[0m \u001b[1;33m/\u001b[0m \u001b[0mm\u001b[0m\u001b[1;33m.\u001b[0m\u001b[0mdistances\u001b[0m\u001b[1;33m)\u001b[0m \u001b[1;33m**\u001b[0m \u001b[1;36m2\u001b[0m\u001b[1;33m\u001b[0m\u001b[0m\n\u001b[0;32m    214\u001b[0m                 \u001b[0mm\u001b[0m\u001b[1;33m.\u001b[0m\u001b[0mlogd\u001b[0m \u001b[1;33m=\u001b[0m \u001b[0mnp\u001b[0m\u001b[1;33m.\u001b[0m\u001b[0mlog10\u001b[0m\u001b[1;33m(\u001b[0m\u001b[0mm\u001b[0m\u001b[1;33m.\u001b[0m\u001b[0mdistances\u001b[0m\u001b[1;33m.\u001b[0m\u001b[0mto\u001b[0m\u001b[1;33m(\u001b[0m\u001b[0mu\u001b[0m\u001b[1;33m.\u001b[0m\u001b[0mkpc\u001b[0m\u001b[1;33m)\u001b[0m\u001b[1;33m.\u001b[0m\u001b[0mvalue\u001b[0m\u001b[1;33m)\u001b[0m\u001b[1;33m\u001b[0m\u001b[0m\n",
      "\u001b[1;32mC:\\Users\\Steven Silverberg\\Anaconda2\\lib\\site-packages\\sedfitter\\convolved_fluxes\\convolved_fluxes.pyc\u001b[0m in \u001b[0;36minterpolate\u001b[1;34m(self, apertures)\u001b[0m\n\u001b[0;32m    311\u001b[0m \u001b[1;33m\u001b[0m\u001b[0m\n\u001b[0;32m    312\u001b[0m             \u001b[1;31m# If any apertures are smaller than the defined min, raise error\u001b[0m\u001b[1;33m\u001b[0m\u001b[1;33m\u001b[0m\u001b[0m\n\u001b[1;32m--> 313\u001b[1;33m             \u001b[1;32mif\u001b[0m \u001b[0mnp\u001b[0m\u001b[1;33m.\u001b[0m\u001b[0many\u001b[0m\u001b[1;33m(\u001b[0m\u001b[0mc\u001b[0m\u001b[1;33m.\u001b[0m\u001b[0mapertures\u001b[0m \u001b[1;33m<\u001b[0m \u001b[0mself\u001b[0m\u001b[1;33m.\u001b[0m\u001b[0mapertures\u001b[0m\u001b[1;33m.\u001b[0m\u001b[0mmin\u001b[0m\u001b[1;33m(\u001b[0m\u001b[1;33m)\u001b[0m\u001b[1;33m)\u001b[0m\u001b[1;33m:\u001b[0m\u001b[1;33m\u001b[0m\u001b[0m\n\u001b[0m\u001b[0;32m    314\u001b[0m                 \u001b[1;32mraise\u001b[0m \u001b[0mException\u001b[0m\u001b[1;33m(\u001b[0m\u001b[1;34m\"Aperture(s) requested too small\"\u001b[0m\u001b[1;33m)\u001b[0m\u001b[1;33m\u001b[0m\u001b[0m\n\u001b[0;32m    315\u001b[0m \u001b[1;33m\u001b[0m\u001b[0m\n",
      "\u001b[1;31mException\u001b[0m: Aperture(s) requested too small"
     ]
    }
   ],
   "source": [
    "fit('robitaille_sed_inputs.txt', filters, apertures, model_dir, 'output.fitinfo', distance_range=[0.001, 2.] * u.kpc, av_range = [0., 40.])"
   ]
  }
 ],
 "metadata": {
  "kernelspec": {
   "display_name": "Python 2",
   "language": "python",
   "name": "python2"
  },
  "language_info": {
   "codemirror_mode": {
    "name": "ipython",
    "version": 2
   },
   "file_extension": ".py",
   "mimetype": "text/x-python",
   "name": "python",
   "nbconvert_exporter": "python",
   "pygments_lexer": "ipython2",
   "version": "2.7.14"
  }
 },
 "nbformat": 4,
 "nbformat_minor": 2
}
