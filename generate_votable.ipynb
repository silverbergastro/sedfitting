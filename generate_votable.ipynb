{
 "cells": [
  {
   "cell_type": "code",
   "execution_count": 51,
   "metadata": {},
   "outputs": [
    {
     "name": "stdout",
     "output_type": "stream",
     "text": [
      "2.0.2\n"
     ]
    }
   ],
   "source": [
    "from astropy.table import Table, Column\n",
    "from astropy.io.votable import from_table, writeto, parse_single_table, parse\n",
    "from pandas import read_csv\n",
    "import numpy as np\n",
    "\n",
    "import astropy\n",
    "print astropy.__version__"
   ]
  },
  {
   "cell_type": "code",
   "execution_count": 20,
   "metadata": {},
   "outputs": [
    {
     "name": "stdout",
     "output_type": "stream",
     "text": [
      "1770\n"
     ]
    }
   ],
   "source": [
    "df = read_csv('targets_for_first_gaia_lookup.csv',low_memory=False)\n",
    "\n",
    "data_input = df.values\n",
    "\n",
    "t = Table()\n",
    "\n",
    "print data_input[:,0].size\n",
    "\n",
    "t.add_column(Column(data=data_input[:,0],name='ZooID'))\n",
    "t.add_column(Column(data=data_input[:,1],name='WISEID'))\n",
    "t.add_column(Column(data=data_input[:,2].astype(float),name='ra'))\n",
    "t.add_column(Column(data=data_input[:,3].astype(float),name='dec'))\n",
    "\n",
    "#votable.to_xml('targets_for_first_gaia_lookup.xml')\n",
    "\n",
    "votable = from_table(t)\n",
    "writeto(votable,\"targets_for_first_gaia_lookup.xml\")"
   ]
  },
  {
   "cell_type": "code",
   "execution_count": 53,
   "metadata": {},
   "outputs": [
    {
     "name": "stdout",
     "output_type": "stream",
     "text": [
      "389\n",
      "(4995853014646189696L, 'J000552.64-414511.7', 0.09465818016742572, 5, 140343940L, 1, 0, 1, 1, 'J000552.64-414511.7', 'HD_105')\n",
      "4995853014646189696 HD_105\n",
      "(2337191189529102336L, 'J000650.16-230627.4', 0.2181767437870403, 5, 246360726L, 1, 0, 1, 3, 'J000650.16-230627.4', 'HD_203')\n",
      "2337191189529102336 HD_203\n",
      "(2745647973856851712L, 'J000825.80+063700.5', 0.08137077231836518, 5, 424268921L, 1, 0, 1, 4, 'J000825.80+063700.5', 'HD_377')\n",
      "2745647973856851712 HD_377\n",
      "(378607281313491328L, 'J001819.60+364706.4', 0.10466320649948863, 5, 593083877L, 1, 0, 1, 5, 'J001819.60+364706.4', 'sig_And')\n",
      "378607281313491328 sig_And\n",
      "(4901229043960053248L, 'J001826.27-632839.6', 0.09357975214068576, 5, 44939746L, 1, 0, 1, 6, 'J001826.27-632839.6', 'HD_1466')\n",
      "4901229043960053248 HD_1466\n",
      "(2430102808294101760L, 'J001842.16-080312.4', 0.14386694415300388, 5, 336859810L, 1, 0, 1, 7, 'J001842.16-080312.4', 'HD_1461')\n",
      "2430102808294101760 HD_1461\n",
      "(2423493369021649920L, 'J002252.07-121233.3', 0.08401865627297866, 5, 311925406L, 1, 0, 1, 8, 'J002252.07-121233.3', '9_Cet')\n",
      "2423493369021649920 9_Cet\n",
      "(4975414983273644032L, 'J003125.11-484812.3', 0.16883218771537717, 5, 104964881L, 1, 0, 1, 10, 'J003125.11-484812.3', 'HD_2834')\n",
      "4975414983273644032 HD_2834\n",
      "(418090121095577216L, 'J003146.41+543119.9', 0.12061974974232495, 5, 674920724L, 1, 0, 1, 11, 'J003146.41+543119.9', 'HD_2772')\n",
      "418090121095577216 HD_2772\n",
      "(4900916679578514048L, 'J003244.03-630153.8', 0.05296980345251064, 5, 46434325L, 1, 0, 1, 12, 'J003244.03-630153.8', 'bet03_Tuc')\n",
      "4900916679578514048 bet03_Tuc\n"
     ]
    }
   ],
   "source": [
    "vot1 = parse(\"1524852431794O.vot\")\n",
    "\n",
    "t1 = parse_single_table(\"1524863066780O.vot\")\n",
    "\n",
    "#table = votable.\n",
    "\n",
    "#table\n",
    "\n",
    "data = t1.array\n",
    "\n",
    "print data.size\n",
    "\n",
    "for i in range(10):\n",
    "    print data[i]\n",
    "    print data[i][0], data[i][-1]\n",
    "\n",
    "#print t1\n",
    "\n",
    "#print t1.columns\n",
    "\n",
    "#t1.add_index('source_id')\n",
    "\n",
    "\n",
    "\n",
    "f = open('cotten_song_gaia_list.csv','w')\n",
    "\n",
    "f.write('Gaia_Source_ID,Name\\n')\n",
    "\n",
    "for i in range(data.size):\n",
    "    f.write(str(data[i][0])+','+data[i][-1]+'\\n')\n",
    "    \n",
    "f.close()\n",
    "\n",
    "\n",
    "#    print row\n",
    "\n"
   ]
  },
  {
   "cell_type": "code",
   "execution_count": 63,
   "metadata": {},
   "outputs": [
    {
     "name": "stdout",
     "output_type": "stream",
     "text": [
      "215.595999956\n"
     ]
    }
   ],
   "source": [
    "import time\n",
    "\n",
    "print time.time() - 1524880146.44"
   ]
  },
  {
   "cell_type": "code",
   "execution_count": null,
   "metadata": {
    "collapsed": true
   },
   "outputs": [],
   "source": []
  }
 ],
 "metadata": {
  "kernelspec": {
   "display_name": "Python 2",
   "language": "python",
   "name": "python2"
  },
  "language_info": {
   "codemirror_mode": {
    "name": "ipython",
    "version": 2
   },
   "file_extension": ".py",
   "mimetype": "text/x-python",
   "name": "python",
   "nbconvert_exporter": "python",
   "pygments_lexer": "ipython2",
   "version": "2.7.14"
  }
 },
 "nbformat": 4,
 "nbformat_minor": 2
}
